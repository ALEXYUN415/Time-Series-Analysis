{
  "cells": [
    {
      "cell_type": "markdown",
      "metadata": {
        "id": "xqoYSGaa7Xqt"
      },
      "source": [
        "# Time Series Week 2 - Assignment"
      ]
    },
    {
      "cell_type": "markdown",
      "metadata": {
        "id": "QLbDCLLY7lXJ"
      },
      "source": [
        "## 1. Basic Python for Linear Algebra"
      ]
    },
    {
      "cell_type": "markdown",
      "metadata": {
        "id": "NaXslNSD7wuu"
      },
      "source": [
        "\n",
        "\n",
        "```\n",
        "# 코드로 형식 지정됨\n",
        "```\n",
        "\n",
        "### 1.1. Vector Addition and Subtraction\n",
        "**Task:** Write a Python function that takes two vectors (as lists or Numpy arrays) and returns their sum and difference.\n",
        "\n"
      ]
    },
    {
      "cell_type": "markdown",
      "metadata": {
        "id": "VagdlBdF-mgu"
      },
      "source": []
    },
    {
      "cell_type": "code",
      "execution_count": 1,
      "metadata": {
        "colab": {
          "base_uri": "https://localhost:8080/"
        },
        "id": "8q_c8ZTh8zAk",
        "outputId": "3a9bbfe4-079a-4471-9669-9d1aeeea5092"
      },
      "outputs": [
        {
          "name": "stdout",
          "output_type": "stream",
          "text": [
            "Vector Addition: [ 3  7 11]\n",
            "Vector Subtraction: [1 1 1]\n"
          ]
        }
      ],
      "source": [
        "import numpy as np\n",
        "\n",
        "#Create two vectors: vector_a = [2, 4, 6] and vector_b = [1, 3, 5]\n",
        "vector_a = np.array([2, 4, 6])\n",
        "vector_b = np.array([1, 3, 5])\n",
        "#Implement the function vector_addition(vector_a, vector_b) to return their sum\n",
        "vector_sum = vector_a + vector_b\n",
        "print(\"Vector Addition:\", vector_sum)\n",
        "#Implement the function vector_subtraction(vector_a, vector_b) to return their difference\n",
        "vector_diff = vector_a - vector_b\n",
        "print(\"Vector Subtraction:\", vector_diff)"
      ]
    },
    {
      "cell_type": "markdown",
      "metadata": {
        "id": "_pyr6cDZ72aI"
      },
      "source": [
        "### 1.2. Matrix Addition and Subtraction\n",
        "**Task:** Write a Python function that takes two matrices and returns their sum and difference."
      ]
    },
    {
      "cell_type": "code",
      "execution_count": 2,
      "metadata": {
        "colab": {
          "base_uri": "https://localhost:8080/"
        },
        "id": "lICjAyow89OF",
        "outputId": "58a06547-5e02-4025-9051-ad3035d8386b"
      },
      "outputs": [
        {
          "name": "stdout",
          "output_type": "stream",
          "text": [
            "Matrix Addition:  [[ 6  8]\n",
            " [10 12]]\n",
            "Matrix Subtraction:  [[-4 -4]\n",
            " [-4 -4]]\n"
          ]
        }
      ],
      "source": [
        "# Create two matrices: matrix_a = [[1, 2], [3, 4]] and matrix_b = [[5, 6], [7, 8]]\n",
        "matrix_a = np.array([[1, 2], [3, 4]])\n",
        "matrix_b = np.array([[5, 6], [7, 8]])\n",
        "# Implement the function matrix_addition(matrix_a, matrix_b) to return their sum\n",
        "matrix_sum = matrix_a + matrix_b\n",
        "print(\"Matrix Addition: \", matrix_sum)\n",
        "# Implement the function matrix_subtraction(matrix_a, matrix_b) to return their difference\n",
        "matrix_diff = matrix_a - matrix_b\n",
        "print(\"Matrix Subtraction: \", matrix_diff)"
      ]
    },
    {
      "cell_type": "markdown",
      "metadata": {
        "id": "SunCZ7Pn8guJ"
      },
      "source": [
        "### 1.3. Scalar Multiplication\n",
        "**Task:** Write a Python function that multiplies a vector and a matrix by a scalar.\n"
      ]
    },
    {
      "cell_type": "code",
      "execution_count": 3,
      "metadata": {
        "colab": {
          "base_uri": "https://localhost:8080/"
        },
        "id": "5POsGdbb9LCE",
        "outputId": "7ca6ea5a-fb71-4776-9f4a-0a89a06bca16"
      },
      "outputs": [
        {
          "name": "stdout",
          "output_type": "stream",
          "text": [
            "Scalar Multiplication with Vector: [ 6 12 18]\n",
            "Scalar Multiplication with Matrix:  [[ 4  8]\n",
            " [12 16]]\n"
          ]
        }
      ],
      "source": [
        "# Create a vector vector_c = [3, 6, 9] and a matrix matrix_c = [[2, 4], [6, 8]]\n",
        "vector_c = np.array([3, 6, 9])\n",
        "matrix_c = np.array([[2, 4], [6, 8]])\n",
        "# Implement the function scalar_multiplication(scalar, vector_c) and scalar_multiplication(scalar, matrix_c) where scalar = 2\n",
        "scalar_k = 2\n",
        "scalar_vector_product = scalar_k * vector_c\n",
        "print(\"Scalar Multiplication with Vector:\", scalar_vector_product)\n",
        "\n",
        "scalar_matrix_product = scalar_k * matrix_c\n",
        "print(\"Scalar Multiplication with Matrix: \", scalar_matrix_product)\n",
        "# Return the scaled vector and matrix\n"
      ]
    },
    {
      "cell_type": "markdown",
      "metadata": {
        "id": "ojhaIjLR9Sq1"
      },
      "source": [
        "### 1.4 Dot Product\n",
        "**Task:** Write a Python function to calculate the dot product of two vectors."
      ]
    },
    {
      "cell_type": "code",
      "execution_count": 4,
      "metadata": {
        "colab": {
          "base_uri": "https://localhost:8080/"
        },
        "id": "10s9IdY49bYG",
        "outputId": "fb23f3c8-33ae-4764-8ea5-0ffb561d5ac6"
      },
      "outputs": [
        {
          "name": "stdout",
          "output_type": "stream",
          "text": [
            "Dot Product : 32\n"
          ]
        }
      ],
      "source": [
        "# Use the vectors vector_a = [1, 2, 3] and vector_b = [4, 5, 6]\n",
        "vector_a = np.array([1, 2, 3])\n",
        "vector_b = np.array([4, 5, 6])\n",
        "dot_product = np.dot(vector_a, vector_b)\n",
        "print(\"Dot Product :\", dot_product)\n",
        "# Implement the function dot_product(vector_a, vector_b) to compute and return the dot product"
      ]
    },
    {
      "cell_type": "markdown",
      "metadata": {
        "id": "q6PJ9oqP9pSd"
      },
      "source": [
        "\n",
        "### 1.5. Matrix Multiplication\n",
        "**Task:** Write a Python function to perform matrix multiplication."
      ]
    },
    {
      "cell_type": "code",
      "execution_count": 5,
      "metadata": {
        "colab": {
          "base_uri": "https://localhost:8080/"
        },
        "id": "JUAcXeUi92Wj",
        "outputId": "49f39f14-c1a9-4626-e860-cb203fc262df"
      },
      "outputs": [
        {
          "name": "stdout",
          "output_type": "stream",
          "text": [
            "Matrix Product: [[19 22]\n",
            " [43 50]]\n"
          ]
        }
      ],
      "source": [
        "# Use the matrices matrix_a = [[1, 2], [3, 4]] and matrix_b = [[5, 6], [7, 8]]\n",
        "matrix_product = np.dot(matrix_a, matrix_b)\n",
        "print(\"Matrix Product:\", matrix_product)\n",
        "# Implement the function matrix_multiplication(matrix_a, matrix_b) to compute and return the product matrix\n"
      ]
    },
    {
      "cell_type": "markdown",
      "metadata": {
        "id": "C9L4OGLJ-IbE"
      },
      "source": [
        "## 2. Basic Python for Statistics"
      ]
    },
    {
      "cell_type": "markdown",
      "metadata": {
        "id": "P2tbcrFV-SaZ"
      },
      "source": [
        "### 2.1. Descriptive Statistics\n",
        "**Task:** Write Python code to compute descriptive statistics (mean, median, mode, standard deviation) for a given dataset."
      ]
    },
    {
      "cell_type": "code",
      "execution_count": 7,
      "metadata": {
        "colab": {
          "base_uri": "https://localhost:8080/"
        },
        "id": "4oVeIUO_-ouJ",
        "outputId": "d294bea0-0f2a-430f-c5aa-00c12de7cb6c"
      },
      "outputs": [
        {
          "name": "stdout",
          "output_type": "stream",
          "text": [
            "Mean: 14.818181818181818\n",
            "Median: 14.0\n",
            "Mode: ModeResult(mode=12, count=3)\n",
            "Standard Deviation: 2.4796693994519736\n"
          ]
        }
      ],
      "source": [
        "# Create a dataset: data = [12, 15, 12, 18, 16, 14, 19, 12, 13, 18, 14]\n",
        "data = [12, 15, 12, 18, 16, 14, 19, 12, 13, 18, 14]\n",
        "# Use Python's statistics library or implement your own functions to calculate:\n",
        "from scipy import stats\n",
        "# Mean\n",
        "mean = np.mean(data)\n",
        "print(\"Mean:\", mean)\n",
        "# Median\n",
        "median = np.median(data)\n",
        "print(\"Median:\", median)\n",
        "# Mode\n",
        "mode = stats.mode(data)\n",
        "print(\"Mode:\", mode)\n",
        "# Standard Deviation\n",
        "std_dev = np.std(data)\n",
        "print(\"Standard Deviation:\", std_dev)"
      ]
    },
    {
      "cell_type": "markdown",
      "metadata": {
        "id": "QF2Nmns_MfJ3"
      },
      "source": [
        "### 2.2. Data Visualization\n",
        "**Task:** Create basic visualizations (histogram, boxplot, and line plot) using Matplotlib or Seaborn."
      ]
    },
    {
      "cell_type": "code",
      "execution_count": 8,
      "metadata": {
        "colab": {
          "base_uri": "https://localhost:8080/",
          "height": 472
        },
        "id": "VRDNLKjAMoJI",
        "outputId": "c0234f49-338a-4a92-c0de-36743ae7e15a"
      },
      "outputs": [
        {
          "data": {
            "image/png": "[encoded data removed]",
            "text/plain": [
              "<Figure size 640x480 with 1 Axes>"
            ]
          },
          "metadata": {},
          "output_type": "display_data"
        }
      ],
      "source": [
        "# Use the same dataset from the previous task (data = [12, 15, 12, 18, 16, 14, 19, 12, 13, 18, 14])\n",
        "import matplotlib.pyplot as plt\n",
        "\n",
        "# Plot the plots by adding titles, labels, and adjusting styles (bins=5)\n",
        "# Histogram\n",
        "plt.hist(data, bins=5)\n",
        "plt.title('Histogram of Data')\n",
        "plt.xlabel('Value')\n",
        "plt.ylabel('Frequency')\n",
        "plt.show()"
      ]
    },
    {
      "cell_type": "code",
      "execution_count": 9,
      "metadata": {
        "colab": {
          "base_uri": "https://localhost:8080/",
          "height": 452
        },
        "id": "Kf6UCWAgNHIN",
        "outputId": "fd9e2ef2-d026-41a5-e780-563657715a75"
      },
      "outputs": [
        {
          "data": {
            "image/png": "[encoded data removed]",
            "text/plain": [
              "<Figure size 640x480 with 1 Axes>"
            ]
          },
          "metadata": {},
          "output_type": "display_data"
        }
      ],
      "source": [
        "# Boxplot\n",
        "plt.boxplot(data)\n",
        "plt.title('Boxplot of data')\n",
        "plt.ylabel('Value')\n",
        "plt.show()"
      ]
    },
    {
      "cell_type": "code",
      "execution_count": 10,
      "metadata": {
        "colab": {
          "base_uri": "https://localhost:8080/",
          "height": 472
        },
        "id": "1AvG-2i3NLaI",
        "outputId": "7df67f60-66c5-416a-b3de-dd484c18680b"
      },
      "outputs": [
        {
          "data": {
            "image/png": "[encoded data removed]",
            "text/plain": [
              "<Figure size 640x480 with 1 Axes>"
            ]
          },
          "metadata": {},
          "output_type": "display_data"
        }
      ],
      "source": [
        "# Lineplot\n",
        "plt.plot(data)\n",
        "plt.title('Line Plot of data')\n",
        "plt.xlabel('Index')\n",
        "plt.ylabel('Value')\n",
        "plt.show()"
      ]
    },
    {
      "cell_type": "markdown",
      "metadata": {
        "id": "RH7SrFD0NU_s"
      },
      "source": [
        "## 3. Numpy and Pandas Functions Related to Time Series"
      ]
    },
    {
      "cell_type": "markdown",
      "metadata": {
        "id": "3DuqYCVZNa0p"
      },
      "source": [
        "### 3.1. Numpy datetime64 Format\n",
        "**Task:** Convert a list of date strings into Numpy datetime64 format."
      ]
    },
    {
      "cell_type": "code",
      "execution_count": 11,
      "metadata": {
        "colab": {
          "base_uri": "https://localhost:8080/"
        },
        "id": "wnqhmvwNNiku",
        "outputId": "886db072-d39e-4c8d-b165-8c7a66a531c1"
      },
      "outputs": [
        {
          "data": {
            "text/plain": [
              "array(['2024-01-01', '2024-01-08', '2024-01-12', '2024-01-26',\n",
              "       '2024-01-31', '2024-02-04', '2024-02-09', '2024-02-17',\n",
              "       '2024-02-21', '2024-03-10', '2024-03-12', '2024-03-29',\n",
              "       '2024-03-30', '2024-03-31', '2024-04-01', '2024-04-04',\n",
              "       '2024-04-07', '2024-04-17'], dtype='datetime64[D]')"
            ]
          },
          "execution_count": 11,
          "metadata": {},
          "output_type": "execute_result"
        }
      ],
      "source": [
        "# Create a list of date strings: dates = [\"2024-01-01\", \"2024-01-08\", \"2024-01-12\", \"2024-01-26\", \"2024-01-31\", \"2024-02-04\", \"2024-02-09\", \"2024-02-17\", \"2024-02-21\", \"2024-03-10\", \"2024-03-12\", \"2024-03-29\", \"2024-03-30\", \"2024-03-31\", \"2024-04-01\", \"2024-04-04\", \"2024-04-07\", \"2024-04-17\"].\n",
        "dates = [\"2024-01-01\", \"2024-01-08\", \"2024-01-12\", \"2024-01-26\", \"2024-01-31\", \"2024-02-04\", \"2024-02-09\", \"2024-02-17\", \"2024-02-21\", \"2024-03-10\", \"2024-03-12\", \"2024-03-29\", \"2024-03-30\", \"2024-03-31\", \"2024-04-01\", \"2024-04-04\", \"2024-04-07\", \"2024-04-17\"]\n",
        "# Convert this list into a Numpy array with datetime64 format\n",
        "# Print the resulting Numpy array\n",
        "\n",
        "order_date_monthly = np.array(dates, dtype='datetime64[D]')\n",
        "order_date_monthly\n"
      ]
    },
    {
      "cell_type": "markdown",
      "metadata": {
        "id": "8VEfFI6nNtst"
      },
      "source": [
        "### 3.2. Creating and Handling Time Series with Pandas DatetimeIndex\n",
        "**Task:** Create a Pandas DataFrame with a DatetimeIndex and perform basic operations."
      ]
    },
    {
      "cell_type": "code",
      "execution_count": 12,
      "metadata": {
        "colab": {
          "base_uri": "https://localhost:8080/"
        },
        "id": "jtJSkEO6OJZO",
        "outputId": "13af00de-6df3-4957-e63a-28f6faae3f2f"
      },
      "outputs": [
        {
          "name": "stdout",
          "output_type": "stream",
          "text": [
            "            temperature\n",
            "2024-01-01           30\n",
            "2024-01-08           32\n",
            "2024-01-12           28\n",
            "2024-01-26           31\n",
            "2024-01-31           29\n",
            "            temperature  Year  Month  DayOfWeek\n",
            "2024-01-01           30  2024      1     Monday\n",
            "2024-01-08           32  2024      1     Monday\n",
            "2024-01-12           28  2024      1     Friday\n",
            "2024-01-26           31  2024      1     Friday\n",
            "2024-01-31           29  2024      1  Wednesday\n"
          ]
        }
      ],
      "source": [
        "# Use the same dates list from the previous task: dates = [\"2024-01-01\", \"2024-02-01\", \"2024-03-01\", \"2024-04-01\"]\n",
        "# Create a Pandas DataFrame with these dates as the index and some arbitrary data (e.g., temperature readings) as the column\n",
        "import pandas as pd\n",
        "temperatures = [30, 32, 28, 31, 29]\n",
        "dates = [\"2024-01-01\", \"2024-01-08\", \"2024-01-12\", \"2024-01-26\", \"2024-01-31\"]\n",
        "df = pd.DataFrame(temperatures, index=pd.to_datetime(dates), columns=['temperature'])\n",
        "print(df)\n",
        "# Extract year, month, and day of the week\n",
        "df['Year'] = df.index.year\n",
        "df['Month'] = df.index.month\n",
        "df['DayOfWeek'] = df.index.day_name()\n",
        "\n",
        "# Display the DataFrame\n",
        "print(df)"
      ]
    },
    {
      "cell_type": "code",
      "execution_count": null,
      "metadata": {
        "id": "vX-HfJZNOfI5"
      },
      "outputs": [],
      "source": [
        "# Perform the following operations:\n",
        "# Extract the year and month from the DatetimeIndex\n",
        "\n",
        "# Add a new column with the day of the week\n"
      ]
    },
    {
      "cell_type": "markdown",
      "metadata": {
        "id": "rDvRtRk7Oqmx"
      },
      "source": [
        "### 3.3. Operating Using Pandas DatetimeIndex - Subsetting\n",
        "**Task:** Subset the time series data for specific time periods."
      ]
    },
    {
      "cell_type": "code",
      "execution_count": 13,
      "metadata": {
        "colab": {
          "base_uri": "https://localhost:8080/"
        },
        "id": "2vV1IHbeO5I1",
        "outputId": "b858b254-2051-4acf-a62a-db306717ad2c"
      },
      "outputs": [
        {
          "name": "stdout",
          "output_type": "stream",
          "text": [
            "March Data:\n",
            "            Temperature  Year  Month DayOfWeek\n",
            "2024-03-10           36  2024      3    Sunday\n",
            "2024-03-12           38  2024      3   Tuesday\n",
            "2024-03-29           37  2024      3    Friday\n",
            "2024-03-30           39  2024      3  Saturday\n",
            "2024-03-31           40  2024      3    Sunday\n",
            "--------------------------------------------------\n",
            "Jan - Feb Data:\n",
            "            Temperature  Year  Month  DayOfWeek\n",
            "2024-01-01           30  2024      1     Monday\n",
            "2024-01-08           32  2024      1     Monday\n",
            "2024-01-12           28  2024      1     Friday\n",
            "2024-01-26           31  2024      1     Friday\n",
            "2024-01-31           29  2024      1  Wednesday\n",
            "2024-02-04           34  2024      2     Sunday\n",
            "2024-02-09           33  2024      2     Friday\n",
            "2024-02-17           30  2024      2   Saturday\n",
            "2024-02-21           35  2024      2  Wednesday\n",
            "--------------------------------------------------\n",
            "Monday Data:\n",
            "            Temperature  Year  Month DayOfWeek\n",
            "2024-01-01           30  2024      1    Monday\n",
            "2024-01-08           32  2024      1    Monday\n",
            "2024-04-01           41  2024      4    Monday\n"
          ]
        }
      ],
      "source": [
        "# Use the DataFrame created in the previous task\n",
        "# Subset the data to include only entries from March 2024\n",
        "\n",
        "# Subset the data to include entries from January to February 2024\n",
        "\n",
        "# Extract all data points that fall on a Monday\n",
        "dates = [\"2024-01-01\", \"2024-01-08\", \"2024-01-12\", \"2024-01-26\", \"2024-01-31\",\n",
        "         \"2024-02-04\", \"2024-02-09\", \"2024-02-17\", \"2024-02-21\", \"2024-03-10\",\n",
        "         \"2024-03-12\", \"2024-03-29\", \"2024-03-30\", \"2024-03-31\", \"2024-04-01\",\n",
        "         \"2024-04-04\", \"2024-04-07\", \"2024-04-17\"]\n",
        "temperatures = [30, 32, 28, 31, 29, 34, 33, 30, 35, 36, 38, 37, 39, 40, 41, 42, 43, 44]\n",
        "\n",
        "df = pd.DataFrame(temperatures, index=pd.to_datetime(dates), columns=['Temperature'])\n",
        "\n",
        "df['Year'] = df.index.year\n",
        "df['Month'] = df.index.month\n",
        "df['DayOfWeek'] = df.index.day_name()\n",
        "\n",
        "march_data = df[df.index.month == 3]\n",
        "\n",
        "jan_feb_data = df[df.index.month.isin([1, 2])]\n",
        "\n",
        "monday_data = df[df['DayOfWeek'] == 'Monday']\n",
        "\n",
        "print(\"March Data:\")\n",
        "print(march_data)\n",
        "print(\"---------------------------------------------\")\n",
        "print(\"Jan - Feb Data:\")\n",
        "print(jan_feb_data)\n",
        "print(\"---------------------------------------------\")\n",
        "print(\"Monday Data:\")\n",
        "print(monday_data)"
      ]
    }
  ],
  "metadata": {
    "colab": {
      "provenance": []
    },
    "kernelspec": {
      "display_name": "Python 3",
      "name": "python3"
    },
    "language_info": {
      "codemirror_mode": {
        "name": "ipython",
        "version": 3
      },
      "file_extension": ".py",
      "mimetype": "text/x-python",
      "name": "python",
      "nbconvert_exporter": "python",
      "pygments_lexer": "ipython3",
      "version": "3.11.7"
    }
  },
  "nbformat": 4,
  "nbformat_minor": 0
}
